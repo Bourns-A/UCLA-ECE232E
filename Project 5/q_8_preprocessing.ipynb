{
 "cells": [
  {
   "cell_type": "code",
   "execution_count": 1,
   "metadata": {
    "collapsed": true
   },
   "outputs": [],
   "source": [
    "import os"
   ]
  },
  {
   "cell_type": "code",
   "execution_count": 2,
   "metadata": {
    "collapsed": true
   },
   "outputs": [],
   "source": [
    "movie_hash = {}\n",
    "CLEANSED_PATH = 'project4_data/q1_cleansed.txt'\n",
    "\n",
    "with open(CLEANSED_PATH, 'r', encoding='utf-8') as c:\n",
    "    for line in c:\n",
    "        movie_arry = line.split('\\t\\t')\n",
    "        \n",
    "        actor = movie_arry[0] # actor is always first..\n",
    "        for i in range(1, len(movie_arry)): #skip first element b/c it's an actor\n",
    "            if not movie_arry[i] in movie_hash:\n",
    "                movie_hash[movie_arry[i].strip()] = set () # initialize if empty\n",
    "            movie_hash[movie_arry[i].strip()].add(actor)\n",
    "            "
   ]
  },
  {
   "cell_type": "code",
   "execution_count": 3,
   "metadata": {
    "collapsed": true
   },
   "outputs": [],
   "source": [
    "ready_to_pop = []\n",
    "for movie in movie_hash:\n",
    "    if len(movie_hash[movie]) < 5:\n",
    "        ready_to_pop.append(movie.strip())\n",
    "        # this array is for deleted movies..\n",
    "    "
   ]
  },
  {
   "cell_type": "code",
   "execution_count": 4,
   "metadata": {
    "collapsed": true
   },
   "outputs": [],
   "source": [
    "# remove movies\n",
    "for i in ready_to_pop:\n",
    "    movie_hash.pop(i)"
   ]
  },
  {
   "cell_type": "code",
   "execution_count": 5,
   "metadata": {
    "collapsed": true
   },
   "outputs": [],
   "source": [
    "index = 0\n",
    "with open('project4_data/actors_in_movies_list.txt', 'w') as indexing:\n",
    "    for movie,actors in movie_hash.items():\n",
    "        actors_list = []\n",
    "        indexing.write(str(index) + '\\t')\n",
    "        actor_len = len(actors)\n",
    "        for i in range(actor_len):\n",
    "            indexing.write(actors.pop() + '   ')\n",
    "        indexing.write('\\n')\n",
    "        index += 1"
   ]
  },
  {
   "cell_type": "code",
   "execution_count": 6,
   "metadata": {
    "collapsed": true
   },
   "outputs": [],
   "source": [
    "movies_hash = {}\n",
    "name_list = []\n",
    "movie_list = []\n",
    "\n",
    "index = 0\n",
    "with open(CLEANSED_PATH,'r', encoding='utf-8') as cleansed, open('project4_data/actor_index.txt','w') as indexing:\n",
    "    for line in cleansed:\n",
    "        line_split = line.split('\\t\\t')\n",
    "        movies = set()\n",
    "        for i in range(1,len(line_split)):\n",
    "            movies.add(line_split[i])\n",
    "            movies_hash[line_split[0]] = movies #set key as actor, values as movies they're in\n",
    "    \n",
    "    for item in movies_hash:\n",
    "        indexing.write(str(index) + '\\t' + item + '\\n')\n",
    "        name_list.append(item)\n",
    "        movie_list.append(movies_hash[item])\n",
    "        index += 1"
   ]
  },
  {
   "cell_type": "code",
   "execution_count": 7,
   "metadata": {
    "collapsed": true
   },
   "outputs": [],
   "source": [
    "index = 0\n",
    "with open('project4_data/movie_index.txt', 'w') as indexing:\n",
    "    for movie,actors in movie_hash.items():\n",
    "        indexing.write(str(index) + '\\t' + str(movie) + '\\n')\n",
    "        index += 1"
   ]
  },
  {
   "cell_type": "code",
   "execution_count": null,
   "metadata": {
    "collapsed": true
   },
   "outputs": [],
   "source": []
  }
 ],
 "metadata": {
  "kernelspec": {
   "display_name": "Python 3",
   "language": "python",
   "name": "python3"
  },
  "language_info": {
   "codemirror_mode": {
    "name": "ipython",
    "version": 3
   },
   "file_extension": ".py",
   "mimetype": "text/x-python",
   "name": "python",
   "nbconvert_exporter": "python",
   "pygments_lexer": "ipython3",
   "version": "3.6.1"
  }
 },
 "nbformat": 4,
 "nbformat_minor": 2
}
